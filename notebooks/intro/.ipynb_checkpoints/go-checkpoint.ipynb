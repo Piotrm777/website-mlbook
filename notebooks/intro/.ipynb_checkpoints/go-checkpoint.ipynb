{
 "cells": [
  {
   "cell_type": "markdown",
   "metadata": {},
   "source": [
    "# Notebook go from Chap 2 A First Taste of Machine Learning"
   ]
  },
  {
   "cell_type": "code",
   "execution_count": null,
   "metadata": {},
   "outputs": [],
   "source": [
    "import pandas as pd # Import the library and give a short alias: pd\n",
    "rent = pd.read_csv(\"data/rent-ideal.csv\")"
   ]
  },
  {
   "cell_type": "code",
   "execution_count": null,
   "metadata": {},
   "outputs": [],
   "source": [
    "print(rent.head(5))"
   ]
  },
  {
   "cell_type": "code",
   "execution_count": null,
   "metadata": {},
   "outputs": [],
   "source": [
    "prices = rent['price']\n",
    "avg_rent = prices.mean()\n",
    "print(f\"Average rent is ${avg_rent:.0f}\")"
   ]
  },
  {
   "cell_type": "code",
   "execution_count": null,
   "metadata": {},
   "outputs": [],
   "source": [
    "bybaths = rent.groupby(['bathrooms']).mean()\n",
    "bybaths = bybaths.reset_index() # overcome quirk in Pandas\n",
    "print(bybaths[['bathrooms','price']]) # print just num baths, avg price"
   ]
  },
  {
   "cell_type": "code",
   "execution_count": null,
   "metadata": {},
   "outputs": [],
   "source": [
    "import matplotlib.pyplot as plt\n",
    "\n",
    "bybaths.plot.line('bathrooms','price', style='-o')\n",
    "plt.show()"
   ]
  },
  {
   "cell_type": "code",
   "execution_count": null,
   "metadata": {},
   "outputs": [],
   "source": [
    "X, y = rent[['bathrooms']], rent['price']"
   ]
  },
  {
   "cell_type": "code",
   "execution_count": null,
   "metadata": {},
   "outputs": [],
   "source": [
    "print(type(X), type(y))"
   ]
  },
  {
   "cell_type": "code",
   "execution_count": null,
   "metadata": {},
   "outputs": [],
   "source": [
    "from sklearn.ensemble import RandomForestRegressor\n",
    "\n",
    "rf = RandomForestRegressor()\n",
    "rf.fit(X, y)"
   ]
  },
  {
   "cell_type": "code",
   "execution_count": null,
   "metadata": {},
   "outputs": [],
   "source": [
    "print( rf.predict([[0], [1]]) )"
   ]
  },
  {
   "cell_type": "code",
   "execution_count": null,
   "metadata": {},
   "outputs": [],
   "source": [
    "from sklearn.metrics import mean_absolute_error\n",
    "\n",
    "predictions = rf.predict(X)\n",
    "e = mean_absolute_error(y, predictions)\n",
    "print(f\"${e:.0f} average error; {e*100.0/y.mean():.2f}% error\")"
   ]
  },
  {
   "cell_type": "code",
   "execution_count": null,
   "metadata": {},
   "outputs": [],
   "source": [
    "X, y = rent[['bedrooms','bathrooms']], rent['price']\n",
    "\n",
    "rf = RandomForestRegressor()\n",
    "rf.fit(X, y)"
   ]
  },
  {
   "cell_type": "code",
   "execution_count": null,
   "metadata": {},
   "outputs": [],
   "source": [
    "predictions = rf.predict(X)\n",
    "e = mean_absolute_error(y, predictions)\n",
    "print(f\"${e:.0f} average error; {e*100.0/y.mean():.2f}% error\")"
   ]
  },
  {
   "cell_type": "code",
   "execution_count": null,
   "metadata": {},
   "outputs": [],
   "source": [
    "X, y = rent[['latitude','longitude']], rent['price']\n",
    "rf = RandomForestRegressor()\n",
    "rf.fit(X, y)\n",
    "e = mean_absolute_error(y, rf.predict(X))\n",
    "print(f\"${e:.0f} average error; {e*100.0/y.mean():.2f}% error\")"
   ]
  },
  {
   "cell_type": "code",
   "execution_count": null,
   "metadata": {},
   "outputs": [],
   "source": [
    "X, y = rent[['bedrooms','bathrooms','latitude','longitude']], rent['price']\n",
    "rf = RandomForestRegressor()\n",
    "rf.fit(X, y)\n",
    "e = mean_absolute_error(y, rf.predict(X))\n",
    "print(f\"${e:.0f} average error; {e*100.0/y.mean():.2f}% error\")"
   ]
  },
  {
   "cell_type": "code",
   "execution_count": null,
   "metadata": {},
   "outputs": [],
   "source": [
    "from sklearn.model_selection import train_test_split\n",
    "\n",
    "X, y = rent[['bedrooms','bathrooms','latitude','longitude']], rent['price']\n",
    "# 20% of data goes into test set, 80% into training set\n",
    "X_train, X_test, y_train, y_test = train_test_split(X, y, test_size=0.2) \n",
    "\n",
    "rf = RandomForestRegressor()\n",
    "rf.fit(X_train, y_train)\n",
    "\n",
    "e = mean_absolute_error(y_test, rf.predict(X_test))\n",
    "print(f\"${e:.0f} average error; {e*100.0/y.mean():.2f}% error\")"
   ]
  },
  {
   "cell_type": "code",
   "execution_count": null,
   "metadata": {},
   "outputs": [],
   "source": [
    "from sklearn.model_selection import cross_val_score\n",
    "\n",
    "k = 5\n",
    "cv_err = cross_val_score(RandomForestRegressor(),\n",
    "                         X, y, cv=k,\n",
    "                         scoring='neg_mean_absolute_error')\n",
    "m_err = -cv_err.mean()\n",
    "std_err = cv_err.std()\n",
    "print(f\"${m_err:.0f} average error +/-${2*std_err:.2f}; {m_err*100.0/y.mean():.2f}% error\")"
   ]
  },
  {
   "cell_type": "code",
   "execution_count": null,
   "metadata": {},
   "outputs": [],
   "source": [
    "def validate(model):\n",
    "    cv_err = cross_val_score(model, X, y, cv=5, scoring='neg_mean_absolute_error')\n",
    "    m_err = -cv_err.mean()\n",
    "    std_err = cv_err.std()\n",
    "    print(f\"${m_err:.0f} average error +/-${2*std_err:.2f}; {m_err*100.0/y.mean():.2f}% error\")"
   ]
  },
  {
   "cell_type": "code",
   "execution_count": null,
   "metadata": {},
   "outputs": [],
   "source": [
    "rf = RandomForestRegressor(n_estimators=100)\n",
    "validate(rf)"
   ]
  },
  {
   "cell_type": "code",
   "execution_count": null,
   "metadata": {},
   "outputs": [],
   "source": [
    "from rfpimp import *\n",
    "rf = RandomForestRegressor(n_estimators=100)\n",
    "rf.fit(X, y)\n",
    "I = importances(rf, X, y)"
   ]
  },
  {
   "cell_type": "code",
   "execution_count": null,
   "metadata": {},
   "outputs": [],
   "source": [
    "I = importances(rf,X_train,y_train)\n",
    "I.plot(kind='barh', legend=False)"
   ]
  },
  {
   "cell_type": "code",
   "execution_count": null,
   "metadata": {},
   "outputs": [],
   "source": [
    "from sklearn import linear_model\n",
    "\n",
    "lm = linear_model.LinearRegression() # create linear model\n",
    "lm.fit(X, y)\n",
    "validate(lm)"
   ]
  },
  {
   "cell_type": "code",
   "execution_count": null,
   "metadata": {},
   "outputs": [],
   "source": [
    "from sklearn import ensemble\n",
    "\n",
    "gbr = ensemble.GradientBoostingRegressor() # create boosting model\n",
    "gbr.fit(X_train, y_train)\n",
    "validate(gbr)"
   ]
  }
 ],
 "metadata": {
  "kernelspec": {
   "display_name": "Python 3",
   "language": "python",
   "name": "python3"
  }
 },
 "nbformat": 4,
 "nbformat_minor": 2
}
