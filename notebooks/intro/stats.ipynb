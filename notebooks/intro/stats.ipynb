{
 "cells": [
  {
   "cell_type": "markdown",
   "metadata": {},
   "source": [
    "# Notebook stats from Chap 2 A First Taste of Machine Learning"
   ]
  },
  {
   "cell_type": "code",
   "execution_count": null,
   "metadata": {},
   "outputs": [],
   "source": [
    "import pandas as pd\n",
    "rent = pd.read_csv(\"data/rent-ideal.csv\")"
   ]
  },
  {
   "cell_type": "code",
   "execution_count": null,
   "metadata": {},
   "outputs": [],
   "source": [
    "samev = rent[(rent.bedrooms==0) & (rent.bathrooms==1.0) & (rent.latitude==40.7073) & (rent.longitude==-73.9664)]"
   ]
  },
  {
   "cell_type": "code",
   "execution_count": null,
   "metadata": {},
   "outputs": [],
   "source": [
    "grouped = rent.reset_index(drop=True).groupby(['bedrooms','bathrooms']).mean().reset_index()\n",
    "grouped = grouped.drop(['latitude','longitude'], axis=1)"
   ]
  },
  {
   "cell_type": "code",
   "execution_count": null,
   "metadata": {},
   "outputs": [],
   "source": [
    "import matplotlib.pyplot as plt\n",
    "import numpy as np\n",
    "\n",
    "bookcolors = {'crimson': '#a50026', 'red': '#d73027', 'redorange': '#f46d43',\n",
    "              'orange': '#fdae61', 'yellow': '#fee090', 'sky': '#e0f3f8', \n",
    "              'babyblue': '#abd9e9', 'lightblue': '#74add1', 'blue': '#4575b4',\n",
    "              'purple': '#313695'}\n",
    "              \n",
    "bybaths = rent.groupby(['bathrooms']).mean()\n",
    "bybaths.reset_index()[['bathrooms','price']]\n",
    "baths = bybaths.reset_index()['bathrooms']\n",
    "fit = np.polyfit(baths, bybaths['price'], deg=1)\n",
    "poly = np.poly1d(fit)\n",
    "print(poly)\n",
    "x = [baths.min(), baths.max()]\n",
    "y = poly(x)\n",
    "\n",
    "bybaths[['price']].plot(alpha=0.8,marker='o',color=bookcolors['blue'])\n",
    "plt.plot(x,y, '-', color=bookcolors['red'])\n",
    "\n",
    "plt.xlabel(\"Bathrooms\")\n",
    "plt.ylabel(\"Average apt price\")\n",
    "plt.legend(['Price','Linear model'], loc='upper right')"
   ]
  },
  {
   "cell_type": "code",
   "execution_count": null,
   "metadata": {},
   "outputs": [],
   "source": [
    "rent = rent.reset_index(drop=True)\n",
    "latlong = rent.sort_values(['latitude', 'longitude', 'bathrooms', 'bedrooms'])\n",
    "specific_lat = latlong[(latlong['bedrooms']>=1) &\n",
    "                        (latlong['bedrooms']<=2) &\n",
    "                        (latlong['latitude']>=40.6661) &\n",
    "                        (latlong['latitude']<=40.6663) &\n",
    "                        (latlong['longitude']>=-73.9882) &\n",
    "                        (latlong['longitude']<=-73.9402)]"
   ]
  }
 ],
 "metadata": {
  "kernelspec": {
   "display_name": "Python 3",
   "language": "python",
   "name": "python3"
  }
 },
 "nbformat": 4,
 "nbformat_minor": 2
}
