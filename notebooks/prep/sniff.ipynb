{
 "cells": [
  {
   "cell_type": "markdown",
   "metadata": {},
   "source": [
    "# Notebook sniff from Chap 3 Exploring and Denoising Your Data Set"
   ]
  },
  {
   "cell_type": "code",
   "execution_count": null,
   "metadata": {},
   "outputs": [],
   "source": [
    "import pandas as pd\n",
    "df = pd.read_csv(\"data/rent.csv\")\n",
    "print(df.shape) # print rows, columns"
   ]
  },
  {
   "cell_type": "code",
   "execution_count": null,
   "metadata": {},
   "outputs": [],
   "source": [
    "df.info()"
   ]
  },
  {
   "cell_type": "code",
   "execution_count": null,
   "metadata": {},
   "outputs": [],
   "source": [
    "df_num = df[['bathrooms', 'bedrooms', 'longitude', 'latitude', 'price']]"
   ]
  },
  {
   "cell_type": "code",
   "execution_count": null,
   "metadata": {},
   "outputs": [],
   "source": [
    "from sklearn.model_selection import train_test_split\n",
    "\n",
    "df_train, df_test = train_test_split(df_num, test_size=0.15) # 15% goes into test set"
   ]
  },
  {
   "cell_type": "code",
   "execution_count": null,
   "metadata": {},
   "outputs": [],
   "source": [
    "df_train.to_csv(\"data/rent-train.csv\")\n",
    "df_test.to_csv(\"data/rent-test.csv\")"
   ]
  },
  {
   "cell_type": "code",
   "execution_count": null,
   "metadata": {},
   "outputs": [],
   "source": [
    "X_train = df_train[['bedrooms','bathrooms','latitude','longitude']]\n",
    "y_train = df_train['price']"
   ]
  },
  {
   "cell_type": "code",
   "execution_count": null,
   "metadata": {},
   "outputs": [],
   "source": [
    "from sklearn.ensemble import RandomForestRegressor\n",
    "rf = RandomForestRegressor(n_estimators=100, n_jobs=-1)"
   ]
  },
  {
   "cell_type": "code",
   "execution_count": null,
   "metadata": {},
   "outputs": [],
   "source": [
    "rf.fit(X_train, y_train)"
   ]
  },
  {
   "cell_type": "code",
   "execution_count": null,
   "metadata": {},
   "outputs": [],
   "source": [
    "from sklearn.metrics import mean_absolute_error\n",
    "\n",
    "pred_train = rf.predict(X_train)\n",
    "err_train = mean_absolute_error(y_train, pred_train)\n",
    "print(f\"${err_train:.2f} average error on training set\")\n",
    "\n",
    "avg_train = y_train.mean()\n",
    "perc_err_train = err_train*100/avg_train\n",
    "print(f\"{perc_err_train:0.2f}% of average {avg_train:.2f}\")"
   ]
  },
  {
   "cell_type": "code",
   "execution_count": null,
   "metadata": {},
   "outputs": [],
   "source": [
    "from sklearn.model_selection import cross_val_score\n",
    "\n",
    "k = 5\n",
    "cvscore = cross_val_score(\n",
    "    RandomForestRegressor(n_estimators=100, n_jobs=-1), # which model to use\n",
    "    X_train, y_train,        # what training data to split up\n",
    "    cv=k,                    # number of folds/chunks\n",
    "    scoring='neg_mean_absolute_error') # what error metric\n",
    "chunks_valid = -cvscore\n",
    "print(chunks_valid)"
   ]
  },
  {
   "cell_type": "code",
   "execution_count": null,
   "metadata": {},
   "outputs": [],
   "source": [
    "avg_err_valid = chunks_valid.mean()\n",
    "print(f\"{avg_err_valid:.2f} average error on validation set\")"
   ]
  },
  {
   "cell_type": "code",
   "execution_count": null,
   "metadata": {},
   "outputs": [],
   "source": [
    "cvscore = cross_val_score(\n",
    "            RandomForestRegressor(n_estimators=100, n_jobs=-1), # which model to use\n",
    "            X_train, y_train, # what training data to split up\n",
    "            cv=k, # number of folds/chunks\n",
    "            scoring='neg_mean_absolute_error') # what error metric\n",
    "chunks_valid = -cvscore\n",
    "avg_err_valid = chunks_valid.mean()\n",
    "print(f\"{avg_err_valid:.2f} average error on validation set\")\n",
    "cvscore = cross_val_score(\n",
    "            RandomForestRegressor(n_estimators=100, n_jobs=-1), # which model to use\n",
    "            X_train, y_train, # what training data to split up\n",
    "            cv=k, # number of folds/chunks\n",
    "            scoring='neg_mean_absolute_error') # what error metric\n",
    "chunks_valid = -cvscore\n",
    "avg_err_valid = chunks_valid.mean()\n",
    "print(f\"{avg_err_valid:.2f} average error on validation set\")\n",
    "cvscore = cross_val_score(\n",
    "            RandomForestRegressor(n_estimators=100, n_jobs=-1), # which model to use\n",
    "            X_train, y_train, # what training data to split up\n",
    "            cv=k, # number of folds/chunks\n",
    "            scoring='neg_mean_absolute_error') # what error metric\n",
    "chunks_valid = -cvscore\n",
    "avg_err_valid = chunks_valid.mean()\n",
    "print(f\"{avg_err_valid:.2f} average error on validation set\")"
   ]
  },
  {
   "cell_type": "code",
   "execution_count": null,
   "metadata": {},
   "outputs": [],
   "source": [
    "plt.plot(range(1,k+1), chunks_valid, color='blue')\n",
    "# plot raw line at average\n",
    "plt.plot([0,k],[avg_err_valid,avg_err_valid], color='red') \n",
    "plt.show()"
   ]
  },
  {
   "cell_type": "code",
   "execution_count": null,
   "metadata": {},
   "outputs": [],
   "source": [
    "bookcolors = {\n",
    "    'crimson': '#a50026', 'red': '#d73027', 'redorange': '#f46d43',\n",
    "    'orange': '#fdae61', 'yellow': '#fee090', 'sky': '#e0f3f8',\n",
    "    'babyblue': '#abd9e9', 'lightblue': '#74add1', 'blue': '#4575b4',\n",
    "    'purple': '#313695'\n",
    "}"
   ]
  },
  {
   "cell_type": "code",
   "execution_count": null,
   "metadata": {},
   "outputs": [],
   "source": [
    "chunks_valid = -cvscore             # reverse neg of neg_mean_absolute_error\n",
    "avg_err_valid = chunks_valid.mean() # compute the average chunk error\n",
    "std_err_valid = chunks_valid.std()  # compute standard deviation of chunk errors\n",
    "print(f\"${int(avg_err_valid)} average error +/-${int(std_err_valid)}\")"
   ]
  },
  {
   "cell_type": "code",
   "execution_count": null,
   "metadata": {},
   "outputs": [],
   "source": [
    "plt.xlabel('Num Bedrooms')\n",
    "plt.ylabel('Num Apts')\n",
    "plt.hist(df_num.bedrooms, color=bookcolors['blue'])\n",
    "plt.show()"
   ]
  },
  {
   "cell_type": "code",
   "execution_count": null,
   "metadata": {},
   "outputs": [],
   "source": [
    "# filter all records (training/testing)\n",
    "df_clean = df_num[(df_num.price>1_000) & (df_num.price<10_000)]"
   ]
  },
  {
   "cell_type": "code",
   "execution_count": null,
   "metadata": {},
   "outputs": [],
   "source": [
    "plt.xlabel('Price')\n",
    "plt.ylabel('Num Apts at that price')\n",
    "plt.hist(df_clean.price, bins=45, color=bookcolors['blue'])\n",
    "plt.show()"
   ]
  },
  {
   "cell_type": "code",
   "execution_count": null,
   "metadata": {},
   "outputs": [],
   "source": [
    "import numpy as np\n",
    "# find middle 98% of original prices\n",
    "upper, lower = np.percentile(df.price, [1,99])\n",
    "clipped = np.clip(df.price, upper, lower)\n",
    "plt.xlabel('Prices in middle 98% range')\n",
    "plt.ylabel('Num Apts at that price')\n",
    "plt.hist(clipped, bins=45, color=bookcolors['blue'])\n",
    "plt.show()"
   ]
  },
  {
   "cell_type": "code",
   "execution_count": null,
   "metadata": {},
   "outputs": [],
   "source": [
    "df_missing = df_clean[(df_clean.longitude==0) | (df_clean.latitude==0)]"
   ]
  },
  {
   "cell_type": "code",
   "execution_count": null,
   "metadata": {},
   "outputs": [],
   "source": [
    "df_clean = df_clean[(df_clean.longitude!=0) | (df_clean.latitude!=0)]"
   ]
  },
  {
   "cell_type": "code",
   "execution_count": null,
   "metadata": {},
   "outputs": [],
   "source": [
    "df_clean = df_clean[(df_clean['latitude']>40.55) & (df_clean['latitude']<40.94) &\n",
    "                    (df_clean['longitude']>-74.1) & (df_clean['longitude']<-73.67)]"
   ]
  },
  {
   "cell_type": "code",
   "execution_count": null,
   "metadata": {},
   "outputs": [],
   "source": [
    "df_train, df_test = train_test_split(df_clean, test_size=0.15) # split clean df"
   ]
  },
  {
   "cell_type": "code",
   "execution_count": null,
   "metadata": {},
   "outputs": [],
   "source": [
    "X_train = df_train[['bedrooms','bathrooms','latitude','longitude']]\n",
    "y_train = df_train['price']"
   ]
  },
  {
   "cell_type": "code",
   "execution_count": null,
   "metadata": {},
   "outputs": [],
   "source": [
    "k=5\n",
    "cvscore = cross_val_score(\n",
    "    RandomForestRegressor(n_estimators=100, n_jobs=-1), # which model to use\n",
    "    X_train, y_train, # what training data\n",
    "    cv=k, # number of folds, k\n",
    "    scoring='neg_mean_absolute_error') # what error metric\n",
    "chunks_valid = -cvscore  # reverse neg of neg_mean_absolute_error\n",
    "errors = list(chunks_valid.astype('int'))\n",
    "avg_err_valid_denoised = chunks_valid.mean()\n",
    "std_err_valid_denoised = chunks_valid.std() \n",
    "print(f\"{errors} avg {avg_err_valid_denoised:.2f} +/- {std_err_valid_denoised:.2f}\")"
   ]
  },
  {
   "cell_type": "code",
   "execution_count": null,
   "metadata": {},
   "outputs": [],
   "source": [
    "for i in range(3):\n",
    "    rf = RandomForestRegressor(n_estimators=100, n_jobs=-1, oob_score=True)\n",
    "    rf.fit(X_train, y_train)\n",
    "    print(rf.oob_score_)"
   ]
  },
  {
   "cell_type": "code",
   "execution_count": null,
   "metadata": {},
   "outputs": [],
   "source": [
    "for i in range(3):\n",
    "    df_train_noisy, _ = train_test_split(df_clean, test_size=0.15) \n",
    "    X_train = df_train[['bedrooms','bathrooms','latitude','longitude']]\n",
    "    y_train = df_train['price']\n",
    "    rf = RandomForestRegressor(n_estimators=100, n_jobs=-1, oob_score=True)\n",
    "    rf.fit(X_train, y_train)\n",
    "    print(rf.oob_score_)"
   ]
  },
  {
   "cell_type": "code",
   "execution_count": null,
   "metadata": {},
   "outputs": [],
   "source": [
    "for i in range(3):\n",
    "    # split original df not df_num\n",
    "    df_train_noisy, _ = train_test_split(df, test_size=0.15) \n",
    "    X_train_noisy = df_train_noisy[['bedrooms','bathrooms','latitude','longitude']]\n",
    "    y_train_noisy = df_train_noisy['price']\n",
    "    rf = RandomForestRegressor(n_estimators=100, n_jobs=-1, oob_score=True)\n",
    "    rf.fit(X_train_noisy, y_train_noisy)\n",
    "    print(rf.oob_score_)"
   ]
  },
  {
   "cell_type": "code",
   "execution_count": null,
   "metadata": {},
   "outputs": [],
   "source": [
    "import numpy as np\n",
    "X_test, y_test = df_test[['bedrooms','bathrooms','latitude','longitude']], df_test['price']\n",
    "\n",
    "rf = RandomForestRegressor(n_estimators=100, n_jobs=-1)\n",
    "rf.fit(X_train, y_train)\n",
    "\n",
    "for i in range(10):\n",
    "    preds = [t.predict([X_test.iloc[i]]) for t in rf.estimators_]\n",
    "    a = np.mean(preds)\n",
    "    s = np.std(preds)\n",
    "    y = y_test.iloc[i]\n",
    "    print(f\"Apt {i}: true price ${y:5.0f}, predict ${a:5.0f} +/-${s:4.0f}\")"
   ]
  },
  {
   "cell_type": "code",
   "execution_count": null,
   "metadata": {},
   "outputs": [],
   "source": [
    "from sklearn.linear_model import Lasso\n",
    "\n",
    "X_test, y_test = df_test[['bedrooms','bathrooms','latitude','longitude']], df_test['price']\n",
    "lm = Lasso(alpha=0.5) # create linear model\n",
    "lm.fit(X_train, y_train)\n",
    "print(\"training score\", lm.score(X_train, y_train))"
   ]
  },
  {
   "cell_type": "code",
   "execution_count": null,
   "metadata": {},
   "outputs": [],
   "source": [
    "from sklearn.ensemble import GradientBoostingRegressor\n",
    "\n",
    "gbr = GradientBoostingRegressor(n_estimators = 500)\n",
    "gbr.fit(X_train, y_train)\n",
    "print(\"training score\", gbr.score(X_train, y_train))"
   ]
  },
  {
   "cell_type": "code",
   "execution_count": null,
   "metadata": {},
   "outputs": [],
   "source": [
    "def stable_oob_score(X_train, y_train, trials = 7):\n",
    "    scores = []\n",
    "    rf = RandomForestRegressor(n_estimators=100, n_jobs=-1, oob_score=True)\n",
    "    for i in range(trials):\n",
    "        rf.fit(X_train, y_train)\n",
    "        scores.append(rf.oob_score_)\n",
    "    return np.mean(scores), np.std(scores)\n",
    "\n",
    "m, s = stable_oob_score(X_train, y_train)\n",
    "print(f\"OOB score {m:.5f} +/-{s:.5f}\")"
   ]
  },
  {
   "cell_type": "code",
   "execution_count": null,
   "metadata": {},
   "outputs": [],
   "source": [
    "from rfpimp import *\n",
    "I = oob_importances(rf, X_train, y_train)\n",
    "I.plot(kind='barh', legend=False)\n",
    "plt.show()"
   ]
  },
  {
   "cell_type": "code",
   "execution_count": null,
   "metadata": {},
   "outputs": [],
   "source": [
    "df_aug = df[['bedrooms','bathrooms','latitude','longitude',\n",
    "             'features','price']].copy()\n",
    "df_aug = df_aug[(df_aug.price>1_000) & (df_aug.price<10_000)]\n",
    "df_aug = df_aug[(df_aug.longitude!=0) | (df_aug.latitude!=0)]\n",
    "df_aug = df_aug[(df_aug['latitude']>40.55) & (df_aug['latitude']<40.94) &\n",
    "                (df_aug['longitude']>-74.1) & (df_aug['longitude']<-73.67)]"
   ]
  },
  {
   "cell_type": "code",
   "execution_count": null,
   "metadata": {},
   "outputs": [],
   "source": [
    "# rewrite features column\n",
    "df_aug['features'] = df_aug['features'].fillna('') # fill missing w/blanks\n",
    "df_aug['features'] = df_aug['features'].str.lower() # normalize to lower case"
   ]
  },
  {
   "cell_type": "code",
   "execution_count": null,
   "metadata": {},
   "outputs": [],
   "source": [
    "df_aug['doorman'] = df_aug['features'].str.contains(\"doorman\")\n",
    "df_aug['parking'] = df_aug['features'].str.contains(\"parking|garage\")\n",
    "df_aug['laundry'] = df_aug['features'].str.contains(\"laundry\")\n",
    "del df_aug['features'] # don't need this anymore"
   ]
  },
  {
   "cell_type": "code",
   "execution_count": null,
   "metadata": {},
   "outputs": [],
   "source": [
    "df_train_aug, df_test_aug = train_test_split(df_aug, test_size=0.15) # split df_aug\n",
    "X_train, y_train = df_train_aug.drop('price', axis=1), df_train_aug['price']\n",
    "X_test, y_test = df_test_aug.drop('price', axis=1), df_test_aug['price']\n",
    "\n",
    "m, s = stable_oob_score(X_train, y_train)\n",
    "print(f\"OOB score {m:.5f} +/-{s:.5f}\")"
   ]
  },
  {
   "cell_type": "code",
   "execution_count": null,
   "metadata": {},
   "outputs": [],
   "source": [
    "rf = RandomForestRegressor(n_estimators=100, n_jobs=-1, oob_score=True)\n",
    "rf.fit(X_train, y_train)\n",
    "I = oob_importances(rf, X_train, y_train)\n",
    "I.plot(kind='barh', legend=False)\n",
    "plt.savefig(\"/tmp/feature-importances.svg\")\n",
    "plt.show()"
   ]
  },
  {
   "cell_type": "code",
   "execution_count": null,
   "metadata": {},
   "outputs": [],
   "source": [
    "m, s = stable_oob_score(X_train.drop('parking', axis=1), y_train)\n",
    "print(f\"OOB score {m:.5f} +/-{s:.5f}\")"
   ]
  },
  {
   "cell_type": "code",
   "execution_count": null,
   "metadata": {},
   "outputs": [],
   "source": [
    "X_train[\"beds_to_baths\"] = X_train[\"bedrooms\"]/(X_train[\"bathrooms\"]+1)\n",
    "# keep X_test in sync\n",
    "X_test[\"beds_to_baths\"] = X_test[\"bedrooms\"]/(X_test[\"bathrooms\"]+1)\n",
    "m, s = stable_oob_score(X_train, y_train)\n",
    "print(f\"OOB score {m:.5f} +/-{s:.5f}\")"
   ]
  },
  {
   "cell_type": "code",
   "execution_count": null,
   "metadata": {},
   "outputs": [],
   "source": [
    "rf = RandomForestRegressor(n_estimators=100, n_jobs=-1, oob_score=True)\n",
    "rf.fit(X_train, y_train)\n",
    "I = oob_importances(rf, X_train, y_train)\n",
    "I.plot(kind='barh', legend=False)\n",
    "plt.show()"
   ]
  },
  {
   "cell_type": "code",
   "execution_count": null,
   "metadata": {},
   "outputs": [],
   "source": [
    "X_train = X_train.drop('beds_to_baths', axis=1)\n",
    "X_test = X_test.drop('beds_to_baths', axis=1)"
   ]
  },
  {
   "cell_type": "code",
   "execution_count": null,
   "metadata": {},
   "outputs": [],
   "source": [
    "rf = RandomForestRegressor(n_estimators=100, n_jobs=-1, oob_score=True)\n",
    "rf.fit(X_train, y_train)\n",
    "print(f\"OOB R^2 {rf.oob_score_:.5f}\")\n",
    "\n",
    "cvscore = cross_val_score(\n",
    "    RandomForestRegressor(n_estimators=100, n_jobs=-1), # which model to use\n",
    "    X_train, y_train,        # what training data to split up\n",
    "    cv=5,                    # number of folds/chunks\n",
    "    scoring='neg_mean_absolute_error') # what error metric\n",
    "chunks_valid = -cvscore\n",
    "err_cv = chunks_valid.mean()\n",
    "print(f\"${err_cv:.2f} average cross-validation error\")"
   ]
  },
  {
   "cell_type": "code",
   "execution_count": null,
   "metadata": {},
   "outputs": [],
   "source": [
    "print(f\"Test R^2 {rf.score(X_test, y_test):.5f}\")\n",
    "err_test = mean_absolute_error(y_test, rf.predict(X_test))\n",
    "print(f\"${err_test:.2f} average error on test set\")"
   ]
  },
  {
   "cell_type": "code",
   "execution_count": null,
   "metadata": {},
   "outputs": [],
   "source": [
    "errors = []\n",
    "for trial in range(5):\n",
    "    # split original df not filtered data frame\n",
    "    df_train_noisy, df_test_noisy = train_test_split(df, test_size=0.15)\n",
    "    X_train = df_train_noisy[['bedrooms','bathrooms','latitude','longitude']]\n",
    "    y_train = df_train_noisy['price']\n",
    "    X_test = df_test_noisy[['bedrooms','bathrooms','latitude','longitude']]\n",
    "    y_test = df_test_noisy['price']\n",
    "    rf = RandomForestRegressor(n_estimators=100, n_jobs=-1)\n",
    "    rf.fit(X_train, y_train)\n",
    "    err_test = mean_absolute_error(y_test, rf.predict(X_test))\n",
    "    errors.append(err_test)\n",
    "    print(f\"${err_test:.2f} average error on test set, test R^2 is {rf.score(X_test, y_test):.4f}\")\n",
    "avg_test_error = int(np.mean(errors))\n",
    "print(f\"Average of average errors is ${avg_test_error}\")"
   ]
  }
 ],
 "metadata": {
  "kernelspec": {
   "display_name": "Python 3",
   "language": "python",
   "name": "python3"
  }
 },
 "nbformat": 4,
 "nbformat_minor": 2
}
