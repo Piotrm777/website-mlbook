{
 "cells": [
  {
   "cell_type": "markdown",
   "metadata": {},
   "source": [
    "# Notebook logs from Chap 5 Exploring and Denoising Your Data Set"
   ]
  },
  {
   "cell_type": "code",
   "execution_count": null,
   "metadata": {},
   "outputs": [],
   "source": [
    "import pandas as pd\n",
    "import matplotlib.pyplot as plt\n",
    "import numpy as np\n",
    "import seaborn as sns\n",
    "from sklearn.ensemble import RandomForestRegressor\n",
    "from sklearn.metrics import mean_absolute_error\n",
    "from sklearn.model_selection import cross_val_score\n",
    "from sklearn.model_selection import train_test_split\n",
    "from rfpimp import *\n",
    "\n",
    "bookcolors = {\n",
    "    'crimson': '#a50026', 'red': '#d73027', 'redorange': '#f46d43',\n",
    "    'orange': '#fdae61', 'yellow': '#fee090', 'sky': '#e0f3f8',\n",
    "    'babyblue': '#abd9e9', 'lightblue': '#74add1', 'blue': '#4575b4',\n",
    "    'purple': '#313695'\n",
    "}\n",
    "\n",
    "df = pd.read_csv(\"data/rent.csv\", parse_dates=['created'])\n",
    "df_num = df[['bathrooms', 'bedrooms', 'longitude', 'latitude', 'price']]\n",
    "X, y = df_num.drop('price', axis=1), df_num['price']"
   ]
  },
  {
   "cell_type": "code",
   "execution_count": null,
   "metadata": {},
   "outputs": [],
   "source": [
    "import numpy as np\n",
    "m = np.mean(y)\n",
    "plt.hist(np.clip(y, 0, 20_000), bins=70, color=bookcolors['blue'])\n",
    "plt.ylim(0, 2000) # zoom in to see tail\n",
    "plt.xlabel(\"price\")\n",
    "plt.show()"
   ]
  },
  {
   "cell_type": "code",
   "execution_count": null,
   "metadata": {},
   "outputs": [],
   "source": [
    "y_log = np.log(y)\n",
    "m = np.mean(y_log)\n",
    "plt.hist(y_log, bins=200, color=bookcolors['blue'])\n",
    "plt.xlim(6.8, 10) # zoom in\n",
    "plt.xlabel(\"log(price)\")\n",
    "plt.show()"
   ]
  },
  {
   "cell_type": "code",
   "execution_count": null,
   "metadata": {},
   "outputs": [],
   "source": [
    "df_local = df[(df.latitude>40.764) & (df.latitude<40.7678) &\n",
    "              (df.longitude>=-73.9844) & (df.longitude<=-73.9842) &\n",
    "              (df.bathrooms==1) & (df.bedrooms==1)].copy()\n",
    "df_local['bathrooms'] = df_local['bathrooms'].astype(int)\n",
    "df_local['log(price)'] = np.log(df_local.price)"
   ]
  },
  {
   "cell_type": "code",
   "execution_count": null,
   "metadata": {},
   "outputs": [],
   "source": [
    "X, y = df_num.drop('price', axis=1), df_num['price']\n",
    "!y_log = np.log(y) # apply log to each price\n",
    "\n",
    "rf = RandomForestRegressor(n_estimators=100, n_jobs=-1, oob_score=True)\n",
    "rf.fit(X, y_log)\n",
    "log_oob_r2 = rf.oob_score_\n",
    "print(f\"OOB R^2 score for log(price) {log_oob_r2:.4f}\")"
   ]
  }
 ],
 "metadata": {
  "kernelspec": {
   "display_name": "Python 3",
   "language": "python",
   "name": "python3"
  }
 },
 "nbformat": 4,
 "nbformat_minor": 2
}
