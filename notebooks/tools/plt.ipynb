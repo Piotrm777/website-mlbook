{
 "cells": [
  {
   "cell_type": "markdown",
   "metadata": {},
   "source": [
    "# Notebook plt from Chap 4 Development Tools"
   ]
  },
  {
   "cell_type": "code",
   "execution_count": null,
   "metadata": {},
   "outputs": [],
   "source": [
    "import matplotlib.pyplot as plt\n",
    "import pandas as pd\n",
    "import numpy as np\n",
    "df = pd.read_csv(\"data/rent-ideal.csv\")\n",
    "bybeds = df.groupby(['bedrooms']).mean()\n",
    "bybeds = bybeds.reset_index()"
   ]
  },
  {
   "cell_type": "code",
   "execution_count": null,
   "metadata": {},
   "outputs": [],
   "source": [
    "bybeds = df.groupby(['bedrooms']).mean()\n",
    "bybeds = bybeds.reset_index() # make bedrooms column again\n",
    "\n",
    "fig, ax = plt.subplots()\n",
    "ax.scatter(bybeds.bedrooms, bybeds.price, color='#4575b4')\n",
    "ax.set_xlabel(\"Bedrooms\")\n",
    "ax.set_ylabel(\"Price\")\n",
    "plt.show()"
   ]
  },
  {
   "cell_type": "code",
   "execution_count": null,
   "metadata": {},
   "outputs": [],
   "source": [
    "fig, ax = plt.subplots()\n",
    "ax.plot(bybeds.bedrooms, bybeds.price, color='#4575b4')\n",
    "ax.set_xlabel(\"Bedrooms\")\n",
    "ax.set_ylabel(\"Price\")\n",
    "plt.show()"
   ]
  },
  {
   "cell_type": "code",
   "execution_count": null,
   "metadata": {},
   "outputs": [],
   "source": [
    "x = np.linspace(0.01, 100, 1000)\n",
    "y = np.log10(x) # apply log10 to each x value\n",
    "fig, ax = plt.subplots()\n",
    "ax.plot(x, y, color='#4575b4')\n",
    "plt.ylabel('y = log_base_10(x)')\n",
    "plt.xlabel('x')\n",
    "plt.show()"
   ]
  },
  {
   "cell_type": "code",
   "execution_count": null,
   "metadata": {},
   "outputs": [],
   "source": [
    "fig, ax = plt.subplots()\n",
    "ax.hist(df.price, color='#4575b4', bins=50)\n",
    "ax.set_xlabel(\"Price\")\n",
    "ax.set_ylabel(\"Count of apts\")\n",
    "plt.show()"
   ]
  },
  {
   "cell_type": "code",
   "execution_count": null,
   "metadata": {},
   "outputs": [],
   "source": [
    "fig, axes = plt.subplots(1,2,figsize=(6,2)) # 1 row, 2 columns\n",
    "axes[0].plot(bybeds.bedrooms, bybeds.price, color='#4575b4')\n",
    "axes[0].set_ylabel(\"Price\")\n",
    "axes[0].set_xlabel(\"Bedrooms\")\n",
    "\n",
    "axes[1].hist(df.price, color='#4575b4', bins=50)\n",
    "axes[1].set_ylabel(\"Count of apts\")\n",
    "axes[1].set_xlabel(\"Price\")\n",
    "plt.tight_layout()\n",
    "plt.show()"
   ]
  }
 ],
 "metadata": {
  "kernelspec": {
   "display_name": "Python 3",
   "language": "python",
   "name": "python3"
  }
 },
 "nbformat": 4,
 "nbformat_minor": 2
}
