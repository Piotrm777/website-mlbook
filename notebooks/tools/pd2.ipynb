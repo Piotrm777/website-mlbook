{
 "cells": [
  {
   "cell_type": "markdown",
   "metadata": {},
   "source": [
    "# Notebook pd2 from Chap 4 Development Tools"
   ]
  },
  {
   "cell_type": "code",
   "execution_count": null,
   "metadata": {},
   "outputs": [],
   "source": [
    "import pandas as pd"
   ]
  },
  {
   "cell_type": "code",
   "execution_count": null,
   "metadata": {},
   "outputs": [],
   "source": [
    "df_raw = pd.read_csv(\"data/rent.csv\", parse_dates=['created'])\n",
    "df_rent = df_raw[['created','features','bedrooms','bathrooms','price']]"
   ]
  },
  {
   "cell_type": "code",
   "execution_count": null,
   "metadata": {},
   "outputs": [],
   "source": [
    "df_rent.info()"
   ]
  },
  {
   "cell_type": "code",
   "execution_count": null,
   "metadata": {},
   "outputs": [],
   "source": [
    "df_aug = df_rent.copy()  # alter a copy of dataframe\n",
    "df_aug['features'] = df_aug['features'].str.lower() # normalize to lower case"
   ]
  },
  {
   "cell_type": "code",
   "execution_count": null,
   "metadata": {},
   "outputs": [],
   "source": [
    "df_aug['features'] = df_aug['features'].fillna('') # fill missing w/blanks\n",
    "df_aug['features'] = df_aug['features'].replace('[]','') # fill empty w/blanks"
   ]
  },
  {
   "cell_type": "code",
   "execution_count": null,
   "metadata": {},
   "outputs": [],
   "source": [
    "df_aug['doorman'] = df_aug['features'].str.contains(\"doorman\")\n",
    "df_aug['laundry'] = df_aug['features'].str.contains(\"laundry|washer\")"
   ]
  },
  {
   "cell_type": "code",
   "execution_count": null,
   "metadata": {},
   "outputs": [],
   "source": [
    "df_aug = df_raw[['created','interest_level']].copy()\n",
    "print(f\"type of interest_level is {df_aug.interest_level.dtype}\")"
   ]
  },
  {
   "cell_type": "code",
   "execution_count": null,
   "metadata": {},
   "outputs": [],
   "source": [
    "m = {'low':1,'medium':2,'high':3}\n",
    "df_aug['interest_level'] = df_aug['interest_level'].map(m)\n",
    "print(f\"type of interest_level is {df_aug.interest_level.dtype}\")"
   ]
  },
  {
   "cell_type": "code",
   "execution_count": null,
   "metadata": {},
   "outputs": [],
   "source": [
    "df_aug['interest_level'] = df_aug['interest_level'].astype('int8')\n",
    "print(f\"type of interest_level is {df_aug.interest_level.dtype}\")"
   ]
  },
  {
   "cell_type": "code",
   "execution_count": null,
   "metadata": {},
   "outputs": [],
   "source": [
    "df_aug['dayofweek'] = df_aug['created'].dt.dayofweek  # add dow column\n",
    "df_aug['day'] = df_aug['created'].dt.day\n",
    "df_aug['month'] = df_aug['created'].dt.month"
   ]
  },
  {
   "cell_type": "code",
   "execution_count": null,
   "metadata": {},
   "outputs": [],
   "source": [
    "data = [[1222837,    1000],\n",
    "        [1222839,    2006],\n",
    "        [1222841,    2000],\n",
    "        [1222843,    1000],\n",
    "        [1222845,    2002]]\n",
    "df_sales = pd.DataFrame(data, columns=['SalesID','YearMade'])"
   ]
  },
  {
   "cell_type": "code",
   "execution_count": null,
   "metadata": {},
   "outputs": [],
   "source": [
    "prices = [[1222836,   31000],\n",
    "          [1222837,   44300],\n",
    "          [1222839,   54000],\n",
    "          [1222843,   10000],\n",
    "          [1222845,   35000],\n",
    "          [1222847,    8000],\n",
    "          [1222849,   33000]]\n",
    "df_prices = pd.DataFrame(prices, columns=['SalesID','SalePrice'])"
   ]
  },
  {
   "cell_type": "code",
   "execution_count": null,
   "metadata": {},
   "outputs": [],
   "source": [
    "df_merged = df_sales.merge(df_prices, on='SalesID', how='left') # merge in prices"
   ]
  },
  {
   "cell_type": "code",
   "execution_count": null,
   "metadata": {},
   "outputs": [],
   "source": [
    "df_merged = df_sales.merge(df_prices, on='SalesID', how='right')"
   ]
  }
 ],
 "metadata": {
  "kernelspec": {
   "display_name": "Python 3",
   "language": "python",
   "name": "python3"
  }
 },
 "nbformat": 4,
 "nbformat_minor": 2
}
