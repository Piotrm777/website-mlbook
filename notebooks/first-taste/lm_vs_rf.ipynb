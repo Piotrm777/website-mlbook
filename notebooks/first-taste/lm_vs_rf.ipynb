{
 "cells": [
  {
   "cell_type": "markdown",
   "metadata": {},
   "source": [
    "# Notebook lm_vs_rf from Chap 3 A First Taste of Applied Machine Learning"
   ]
  },
  {
   "cell_type": "code",
   "execution_count": null,
   "metadata": {},
   "outputs": [],
   "source": [
    "import matplotlib.pyplot as plt\n",
    "import numpy as np\n",
    "X_train = np.array([1,2,3,4,5]).reshape(5,1) # 5 rows of 1 column\n",
    "y_train = np.array([1,2,3,4,5])              # 1 column\n",
    "plt.figure(figsize=(6,6))\n",
    "plt.xticks([1,2,3,4,5,6,7]); plt.xlim(0,7)\n",
    "plt.yticks([1,2,3,4,5,6,7]); plt.ylim(0,7)\n",
    "plt.plot(X_train, y_train,lw=1,c='black',marker='o',markersize=6)\n",
    "plt.plot([5,6],[5,6],'--',lw=1.5,c='#4575b4')\n",
    "plt.plot([6],[6],'o',markersize=12,markeredgecolor='#4575b4',markerfacecolor='none')\n",
    "plt.text(2.2,5.9,'Linear regression',fontsize=22,fontname='Arial')\n",
    "plt.plot([6],[4.5],'o',markersize=12,markeredgecolor='#f46d43',markerfacecolor='none')\n",
    "plt.plot([5,6],[5,4.5],'--',lw=1.5,c='#f46d43')\n",
    "plt.text(5.7,3.9,'RF',fontsize=22,fontname='Arial')\n",
    "\n",
    "plt.xlabel(\"X\",fontname='Arial')\n",
    "plt.ylabel(\"Y\",fontname='Arial')\n",
    "plt.show()"
   ]
  },
  {
   "cell_type": "code",
   "execution_count": null,
   "metadata": {},
   "outputs": [],
   "source": [
    "import numpy as np\n",
    "X_train = np.array([1,2,3,4,5]).reshape(5,1) # 5 rows of 1 column\n",
    "y_train = np.array([1,2,3,4,5])              # 1 column\n",
    "X_test = np.array([6]).reshape(1,1)          # 1 row of 1 column"
   ]
  },
  {
   "cell_type": "code",
   "execution_count": null,
   "metadata": {},
   "outputs": [],
   "source": [
    "from sklearn.linear_model import LinearRegression   \n",
    "lm = LinearRegression()\n",
    "lm.fit(X_train,y_train)\n",
    "print(\"y =\", lm.predict(X_test))"
   ]
  },
  {
   "cell_type": "code",
   "execution_count": null,
   "metadata": {},
   "outputs": [],
   "source": [
    "from sklearn.ensemble import RandomForestRegressor\n",
    "rf = RandomForestRegressor(n_estimators=100)\n",
    "rf.fit(X_train,y_train)\n",
    "print(\"y =\", rf.predict(X_test) )"
   ]
  }
 ],
 "metadata": {
  "kernelspec": {
   "display_name": "Python 3",
   "language": "python",
   "name": "python3"
  }
 },
 "nbformat": 4,
 "nbformat_minor": 2
}
