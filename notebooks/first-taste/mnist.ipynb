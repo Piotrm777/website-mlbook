{
 "cells": [
  {
   "cell_type": "markdown",
   "metadata": {},
   "source": [
    "# Notebook mnist from Chap 3 A First Taste of Applied Machine Learning"
   ]
  },
  {
   "cell_type": "code",
   "execution_count": null,
   "metadata": {},
   "outputs": [],
   "source": [
    "import pandas as pd\n",
    "addr640 = pd.read_csv(\"data/640.csv\")"
   ]
  },
  {
   "cell_type": "code",
   "execution_count": null,
   "metadata": {},
   "outputs": [],
   "source": [
    "print(addr640.digit.values)\n",
    "addr640 = addr640.drop('digit', axis=1) # drop digit column"
   ]
  },
  {
   "cell_type": "code",
   "execution_count": null,
   "metadata": {},
   "outputs": [],
   "source": [
    "six_img_as_row = addr640.iloc[0].values  # digit '6' is first row\n",
    "img28x28 = six_img_as_row.reshape(28,28) # unflatten as 2D array\n",
    "plt.imshow(img28x28, cmap='binary')\n",
    "plt.show()"
   ]
  },
  {
   "cell_type": "code",
   "execution_count": null,
   "metadata": {},
   "outputs": [],
   "source": [
    "six_img_as_row[six_img_as_row>0] = 1  # convert 0..1 to 0 or 1\n",
    "six_img_as_row = six_img_as_row.astype(int)\n",
    "img28x28 = six_img_as_row.reshape(28,28)\n",
    "s = str(img28x28).replace(' ','')     # remove spaces\n",
    "print(s)"
   ]
  },
  {
   "cell_type": "code",
   "execution_count": null,
   "metadata": {},
   "outputs": [],
   "source": [
    "digits = pd.read_csv(\"data/mnist-10k-sample.csv\")\n",
    "images = digits.drop('digit', axis=1) # get just pixels\n",
    "targets = digits['digit']             # get just digit value"
   ]
  },
  {
   "cell_type": "code",
   "execution_count": null,
   "metadata": {},
   "outputs": [],
   "source": [
    "fig, axes = plt.subplots(10, 5, figsize=(4, 6.5)) # make 10x5 grid of plots\n",
    "\n",
    "for i, ax in enumerate(axes.flat):\n",
    "    img_as_row = images.iloc[i].values\n",
    "    img28x28 = img_as_row.reshape(28,28)\n",
    "    ax.axis('off') # don't show x, y axes\n",
    "    ax.imshow(img28x28, cmap='binary')\n",
    "    ax.text(0, 8, targets[i], color='#313695', fontsize=18)\n",
    "plt.show()"
   ]
  },
  {
   "cell_type": "code",
   "execution_count": null,
   "metadata": {},
   "outputs": [],
   "source": [
    "from sklearn.ensemble import RandomForestClassifier\n",
    "\n",
    "cl = RandomForestClassifier(n_estimators=900, n_jobs=-1)\n",
    "cl.fit(images, targets)\n",
    "pred = cl.predict(addr640)"
   ]
  },
  {
   "cell_type": "code",
   "execution_count": null,
   "metadata": {},
   "outputs": [],
   "source": [
    "import numpy as np;\n",
    "np.set_printoptions(precision=3)\n",
    "\n",
    "digit_values = range(10)\n",
    "prob = cl.predict_proba(addr640)\n",
    "prob_for_2nd_digit = prob[1]\n",
    "print(prob_for_2nd_digit)"
   ]
  },
  {
   "cell_type": "code",
   "execution_count": null,
   "metadata": {},
   "outputs": [],
   "source": [
    "pred_digit = np.argmax(prob_for_2nd_digit)\n",
    "print(\"predicted digit is\", pred_digit)"
   ]
  },
  {
   "cell_type": "code",
   "execution_count": null,
   "metadata": {},
   "outputs": [],
   "source": [
    "prob_for_1st_digit = prob[0]\n",
    "pred_digit = np.argmax(prob_for_1st_digit)\n",
    "bars = plt.bar(digit_values, prob_for_1st_digit, color='#4575b4')\n",
    "bars[pred_digit].set_color('#fdae61')\n",
    "plt.xlabel(\"predicted digit\")\n",
    "plt.xticks(digit_values)\n",
    "plt.ylabel(\"likelihood 1st image\n",
    "is a specific digit\")\n",
    "plt.show()"
   ]
  },
  {
   "cell_type": "code",
   "execution_count": null,
   "metadata": {},
   "outputs": [],
   "source": [
    "pred_digit = np.argmax(prob_for_2nd_digit)\n",
    "bars = plt.bar(digit_values, prob_for_2nd_digit, color='#4575b4')\n",
    "bars[pred_digit].set_color('#fdae61')\n",
    "plt.xlabel(\"predicted digit\")\n",
    "plt.xticks(digit_values)\n",
    "plt.ylabel(\"likelihood 2nd image\n",
    "is a specific digit\")\n",
    "plt.show()"
   ]
  },
  {
   "cell_type": "code",
   "execution_count": null,
   "metadata": {},
   "outputs": [],
   "source": [
    "prob_for_3rd_digit = prob[2]\n",
    "pred_digit = np.argmax(prob_for_3rd_digit)\n",
    "bars = plt.bar(digit_values, prob_for_3rd_digit, color='#4575b4')\n",
    "bars[pred_digit].set_color('#fdae61')\n",
    "plt.xlabel(\"predicted digit\")\n",
    "plt.xticks(digit_values)\n",
    "plt.ylabel(\"likelihood 3rd image\n",
    "is a specific digit\")\n",
    "plt.show()"
   ]
  },
  {
   "cell_type": "code",
   "execution_count": null,
   "metadata": {},
   "outputs": [],
   "source": [
    "fours = images[targets==4] # find all \"4\" images\n",
    "\n",
    "fig, axes = plt.subplots(15, 8, figsize=(4,6.5))\n",
    "for i, ax in enumerate(axes.flat):\n",
    "    img = fours.iloc[i,:].values.reshape(28,28)\n",
    "    ax.axis('off')\n",
    "    ax.imshow(img, cmap='binary')"
   ]
  }
 ],
 "metadata": {
  "kernelspec": {
   "display_name": "Python 3",
   "language": "python",
   "name": "python3"
  }
 },
 "nbformat": 4,
 "nbformat_minor": 2
}
