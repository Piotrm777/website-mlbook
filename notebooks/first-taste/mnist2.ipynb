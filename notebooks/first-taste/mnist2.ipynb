{
 "cells": [
  {
   "cell_type": "markdown",
   "metadata": {},
   "source": [
    "# Notebook mnist2 from Chap 3 A First Taste of Applied Machine Learning"
   ]
  },
  {
   "cell_type": "code",
   "execution_count": null,
   "metadata": {},
   "outputs": [],
   "source": [
    "import pandas as pd\n",
    "from sklearn.model_selection import train_test_split\n",
    "from sklearn.ensemble import RandomForestClassifier\n",
    "digits = pd.read_csv(\"data/mnist-10k-sample.csv\")\n",
    "images = digits.drop('digit', axis=1)\n",
    "targets = digits['digit']"
   ]
  },
  {
   "cell_type": "code",
   "execution_count": null,
   "metadata": {},
   "outputs": [],
   "source": [
    "X_train, X_test, y_train, y_test =     train_test_split(images, targets, test_size=.2)\n",
    "\n",
    "cl = RandomForestClassifier(n_estimators=900, n_jobs=-1)\n",
    "cl.fit(X_train, y_train)\n",
    "rfaccur = cl.score(X_test, y_test)"
   ]
  },
  {
   "cell_type": "code",
   "execution_count": null,
   "metadata": {},
   "outputs": [],
   "source": [
    "from sklearn.linear_model import LogisticRegression\n",
    "\n",
    "# create linear model\n",
    "lm = LogisticRegression(solver='newton-cg', multi_class='multinomial')\n",
    "lm.fit(X_train, y_train)\n",
    "\n",
    "lmaccur = lm.score(X_test, y_test)"
   ]
  },
  {
   "cell_type": "code",
   "execution_count": null,
   "metadata": {},
   "outputs": [],
   "source": [
    "ntrees = cl.n_estimators\n",
    "nnodes = sum([cl.estimators_[i].tree_.node_count for i in range(ntrees)])\n",
    "print(f\"{nnodes:,}\") # print with commas"
   ]
  }
 ],
 "metadata": {
  "kernelspec": {
   "display_name": "Python 3",
   "language": "python",
   "name": "python3"
  }
 },
 "nbformat": 4,
 "nbformat_minor": 2
}
